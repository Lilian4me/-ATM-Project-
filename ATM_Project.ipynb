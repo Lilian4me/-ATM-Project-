{
 "cells": [
  {
   "cell_type": "code",
   "execution_count": 1,
   "id": "9ff64b33-4306-43ba-a6ee-4dd6c861d8fc",
   "metadata": {},
   "outputs": [
    {
     "name": "stdout",
     "output_type": "stream",
     "text": [
      "Welcome to the ATM Simulator!\n"
     ]
    },
    {
     "name": "stdin",
     "output_type": "stream",
     "text": [
      "Enter the 4-digit pin:  1234\n"
     ]
    },
    {
     "name": "stdout",
     "output_type": "stream",
     "text": [
      "Aunthetication Successful!!\n",
      "\n",
      "ATM Menu: \n",
      "\n",
      "Check Balance\n",
      "Deposit Money\n",
      "Withdraw Money\n",
      "Transaction History\n",
      "Change Pin\n",
      "Exit\n"
     ]
    },
    {
     "name": "stdin",
     "output_type": "stream",
     "text": [
      "\n",
      " Enter your choice:  1\n"
     ]
    },
    {
     "name": "stdout",
     "output_type": "stream",
     "text": [
      "\n",
      " Your account balance is 300000\n",
      "\n",
      "\n",
      "ATM Menu: \n",
      "\n",
      "Check Balance\n",
      "Deposit Money\n",
      "Withdraw Money\n",
      "Transaction History\n",
      "Change Pin\n",
      "Exit\n"
     ]
    },
    {
     "name": "stdin",
     "output_type": "stream",
     "text": [
      "\n",
      " Enter your choice:  2\n",
      "Enter the amount to deposit:  200\n"
     ]
    },
    {
     "name": "stdout",
     "output_type": "stream",
     "text": [
      " 200.0 has been deposited successfully!\n",
      "\n",
      "ATM Menu: \n",
      "\n",
      "Check Balance\n",
      "Deposit Money\n",
      "Withdraw Money\n",
      "Transaction History\n",
      "Change Pin\n",
      "Exit\n"
     ]
    },
    {
     "name": "stdin",
     "output_type": "stream",
     "text": [
      "\n",
      " Enter your choice:  3\n",
      "Enter the withdrwal amount:  100\n"
     ]
    },
    {
     "name": "stdout",
     "output_type": "stream",
     "text": [
      "100.0 withdrawn successfully!\n",
      "\n",
      "ATM Menu: \n",
      "\n",
      "Check Balance\n",
      "Deposit Money\n",
      "Withdraw Money\n",
      "Transaction History\n",
      "Change Pin\n",
      "Exit\n"
     ]
    },
    {
     "name": "stdin",
     "output_type": "stream",
     "text": [
      "\n",
      " Enter your choice:  4\n"
     ]
    },
    {
     "name": "stdout",
     "output_type": "stream",
     "text": [
      "\n",
      "Transaction History: \n",
      "1. Deposited Amount: 200.0\n",
      "2. Withdrawn: 100.0\n",
      "\n",
      "\n",
      "ATM Menu: \n",
      "\n",
      "Check Balance\n",
      "Deposit Money\n",
      "Withdraw Money\n",
      "Transaction History\n",
      "Change Pin\n",
      "Exit\n"
     ]
    },
    {
     "name": "stdin",
     "output_type": "stream",
     "text": [
      "\n",
      " Enter your choice:  6\n"
     ]
    },
    {
     "name": "stdout",
     "output_type": "stream",
     "text": [
      "Thankyou for using our ATM!\n"
     ]
    }
   ],
   "source": [
    "import time\n",
    " \n",
    "#Users Accounts details with pin and balance amount \n",
    "users = {\n",
    "    '1234': {'balance': 300000, 'transactions':[]},\n",
    "    '6789': {'balance': 100000, 'transactions': []},\n",
    "    '3456': {'balance': 400000, 'transactions': []}\n",
    "}\n",
    " \n",
    "#Initialize blocker users \n",
    "blocked_users = set()\n",
    " \n",
    "#Functions for authentication of users\n",
    "def authentication():\n",
    "  attempts=3\n",
    "  while attempts >0:\n",
    "    pin = input('Enter the 4-digit pin: ')\n",
    "    if pin in blocked_users:\n",
    "      print('Your card is blocked. Contact your bank for more details!')\n",
    "      return None\n",
    "    if pin in users:\n",
    "      print('Aunthetication Successful!!')\n",
    "      return pin\n",
    "    else:\n",
    "      attempts -= 1\n",
    "      print(f'Incorrect Pin. Attempts left {attempts}\\n')\n",
    "\n",
    " \n",
    "  print(f'\\nToo many attempts! Your card has been blocked.\\n')\n",
    "  blocked_users.add(pin)\n",
    "  return None\n",
    " \n",
    " \n",
    "#Function to display the menu \n",
    "def menu():\n",
    "  print('\\nATM Menu: \\n')\n",
    "  print('Check Balance')\n",
    "  print('Deposit Money')\n",
    "  print('Withdraw Money')\n",
    "  print('Transaction History')\n",
    "  print('Change Pin')\n",
    "  print('Exit')\n",
    " \n",
    " \n",
    "#Functions to check balance\n",
    "def check_balance(user_pin):\n",
    "  print(f\"\\n Your account balance is {users[user_pin]['balance']}\\n\")\n",
    " \n",
    " \n",
    "#Function to deposit Money \n",
    "def deposit_money(user_pin):\n",
    "  amount= float(input('Enter the amount to deposit: '))\n",
    "  if amount >0: \n",
    "    users[user_pin]['balance'] += amount\n",
    "    users[user_pin]['transactions'].append(f'Deposited Amount: {amount}')\n",
    "    print(f' {amount} has been deposited successfully!')\n",
    "  else:\n",
    "    print('Invalid amount. Try again!')\n",
    " \n",
    "#Function to withdraw money\n",
    "def withdraw_money(user_pin):\n",
    "  amount= float(input('Enter the withdrwal amount: '))\n",
    "  if amount>0 and  amount <= users[user_pin]['balance']:\n",
    "    users[user_pin]['balance'] -= amount\n",
    "    users[user_pin]['transactions'].append(f'Withdrawn: {amount}')\n",
    "    print(f'{amount} withdrawn successfully!')\n",
    "  elif amount > users[user_pin]['balance']:\n",
    "    print('Insufficient balancs. Try again!')\n",
    "  else: \n",
    "    print('Invalid amount. Tray again!')\n",
    " \n",
    " \n",
    "#Functions to show transaction details\n",
    "def transaction_history(user_pin):\n",
    "  print('\\nTransaction History: ')\n",
    "  if users[user_pin]['transactions']:\n",
    "    for i, transaction in enumerate(users[user_pin]['transactions'], 1):\n",
    "      print(f'{i}. {transaction}')\n",
    "  else: \n",
    "    print('No Transaction found!')\n",
    "  print()\n",
    " \n",
    " \n",
    "#Funstion to change pin \n",
    "def change_pin(user_pin):\n",
    "  new_pin = input('\\n Enter the new pin: ')\n",
    "  if new_pin.isdigit() and len(new_pin) == 4 and new_pin not in users:\n",
    "    users[new_pin] = users.pop(user_pin)\n",
    "    print('Pin Changed Successfully!')\n",
    "  else: \n",
    "    print('Invalid or already exists. Try again!')\n",
    "    return user_pin\n",
    " \n",
    "#Main function to run the app \n",
    "def atm_simulator():\n",
    "  print('Welcome to the ATM Simulator!')\n",
    " \n",
    "  user_pin = authentication()\n",
    "  if not user_pin:\n",
    "    return\n",
    "\n",
    " \n",
    "  while True:\n",
    "    menu()\n",
    "    choice = input('\\n Enter your choice: ')\n",
    " \n",
    " \n",
    "    if choice == '1':\n",
    "      check_balance(user_pin)\n",
    "    elif choice == '2':\n",
    "      deposit_money(user_pin)\n",
    "    elif choice == '3':\n",
    "      withdraw_money(user_pin)\n",
    "    elif choice =='4':\n",
    "      transaction_history(user_pin)\n",
    "    elif choice == '5':\n",
    "      user_pin = change_pin(user_pin)\n",
    "    elif choice == '6':\n",
    "      print('Thankyou for using our ATM!')\n",
    "      break\n",
    "    else:\n",
    "      print('Invalid choice, please select a valid option.')\n",
    " \n",
    "    time.sleep(1)\n",
    " \n",
    " \n",
    "#Run the application \n",
    "atm_simulator()"
   ]
  },
  {
   "cell_type": "code",
   "execution_count": null,
   "id": "17e9521a-f5eb-4891-b4c8-c4bbb5a4c593",
   "metadata": {},
   "outputs": [],
   "source": []
  }
 ],
 "metadata": {
  "kernelspec": {
   "display_name": "Python [conda env:base] *",
   "language": "python",
   "name": "conda-base-py"
  },
  "language_info": {
   "codemirror_mode": {
    "name": "ipython",
    "version": 3
   },
   "file_extension": ".py",
   "mimetype": "text/x-python",
   "name": "python",
   "nbconvert_exporter": "python",
   "pygments_lexer": "ipython3",
   "version": "3.12.7"
  }
 },
 "nbformat": 4,
 "nbformat_minor": 5
}
